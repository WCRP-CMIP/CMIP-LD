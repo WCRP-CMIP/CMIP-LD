{
 "cells": [
  {
   "cell_type": "code",
   "execution_count": 1,
   "id": "85a2b932-b27b-48d6-bac9-4df07c535617",
   "metadata": {},
   "outputs": [],
   "source": [
    "\n",
    "import json"
   ]
  },
  {
   "cell_type": "code",
   "execution_count": null,
   "id": "e2a64535",
   "metadata": {},
   "outputs": [],
   "source": [
    "import os\n",
    "\n",
    "os.system('ipython generate.py; echo \"executed sucessfully\"')"
   ]
  },
  {
   "cell_type": "code",
   "execution_count": 2,
   "id": "70eb7a4b-b173-4ea5-b855-fe94b039bf69",
   "metadata": {},
   "outputs": [],
   "source": [
    "def is_list_of_string(obj):\n",
    "    test1 = isinstance(obj, list)\n",
    "    test2 = all([isinstance(i, str) for i in obj])\n",
    "    return test1 and test2"
   ]
  },
  {
   "cell_type": "code",
   "execution_count": 3,
   "id": "60165e4a-6652-4ffb-897a-5e480e7c7062",
   "metadata": {},
   "outputs": [
    {
     "data": {
      "text/plain": [
       "dict_keys(['Conventions', 'DRS', 'activity_id', 'experiment_id', 'forcing_index', 'frequency', 'grid_label', 'initialization_index', 'license', 'mip_era', 'nominal_resolution', 'organisations', 'physics_index', 'product', 'realization_index', 'realm', 'required_global_attributes', 'source_id', 'source_type', 'sub_experiment_id', 'tracking_id', 'variant_label', 'version_metadata'])"
      ]
     },
     "execution_count": 3,
     "metadata": {},
     "output_type": "execute_result"
    }
   ],
   "source": [
    "with open('CV.json', 'r') as fh:\n",
    "    cv_data = json.load(fh)\n",
    "    \n",
    "cv_data['CV'].keys()"
   ]
  },
  {
   "cell_type": "code",
   "execution_count": 4,
   "id": "4b3ae95a-fc2d-4433-b51d-61895cce6399",
   "metadata": {},
   "outputs": [],
   "source": [
    "assert set(cv_data.keys()) == {'CV'}"
   ]
  },
  {
   "cell_type": "code",
   "execution_count": 5,
   "id": "aed37c01-7c80-44f7-81e4-6ad2413ca3ab",
   "metadata": {},
   "outputs": [],
   "source": [
    "assert cv_data['CV']['Conventions'] == [\n",
    "\"^CF-1.7 CMIP-6.[0-2,5]\\\\( UGRID-1.0\\\\)\\\\{0,\\\\}$\"\n",
    "]"
   ]
  },
  {
   "cell_type": "code",
   "execution_count": 6,
   "id": "b6675ae1-ffb8-4818-89fc-05f67ccad487",
   "metadata": {},
   "outputs": [],
   "source": [
    "assert isinstance(cv_data['CV']['activity_id'], dict)"
   ]
  },
  {
   "cell_type": "code",
   "execution_count": 7,
   "id": "bda6da8b-19c3-4c56-b2ac-4dfedd0df189",
   "metadata": {},
   "outputs": [
    {
     "data": {
      "text/plain": [
       "['CMIP']"
      ]
     },
     "execution_count": 7,
     "metadata": {},
     "output_type": "execute_result"
    }
   ],
   "source": [
    "test_experiment = cv_data['CV']['experiment_id']['1pctCO2']\n",
    "\n",
    "test_experiment['activity_id']"
   ]
  },
  {
   "cell_type": "code",
   "execution_count": 8,
   "id": "f08338eb-b4c8-4659-a25f-79c966934a55",
   "metadata": {},
   "outputs": [],
   "source": [
    "assert isinstance(test_experiment['activity_id'], list)\n",
    "\n"
   ]
  },
  {
   "cell_type": "code",
   "execution_count": 9,
   "id": "f1acbca4-799e-4eed-bd81-4be417e26214",
   "metadata": {},
   "outputs": [
    {
     "name": "stdout",
     "output_type": "stream",
     "text": [
      "set()\n"
     ]
    }
   ],
   "source": [
    "expected_experiment_keys = {\n",
    "    \"activity_id\",\n",
    "    \"additional_allowed_model_components\",\n",
    "    \"description\",\n",
    "    \"experiment\",\n",
    "    \"experiment_id\",\n",
    "    \"parent_activity_id\",\n",
    "    \"parent_experiment_id\",\n",
    "    \"required_model_components\",\n",
    "    \"sub_experiment_id\",\n",
    "}\n",
    "experiment_keys = set(test_experiment.keys())\n",
    "\n",
    "print(expected_experiment_keys.difference(experiment_keys))\n",
    "\n",
    "assert experiment_keys.issuperset(expected_experiment_keys), expected_experiment_keys.difference(experiment_keys)"
   ]
  },
  {
   "cell_type": "code",
   "execution_count": 10,
   "id": "d319eafa-98be-43f0-b37a-4a0340f9d9d4",
   "metadata": {},
   "outputs": [
    {
     "name": "stdout",
     "output_type": "stream",
     "text": [
      "additional keys: {'tier', 'parameters'}\n"
     ]
    }
   ],
   "source": [
    "print(\"additional keys:\", experiment_keys.difference(expected_experiment_keys))\n"
   ]
  },
  {
   "cell_type": "code",
   "execution_count": 11,
   "id": "880bae07-8869-4d59-8d00-a2a5bbcd7158",
   "metadata": {},
   "outputs": [
    {
     "name": "stdout",
     "output_type": "stream",
     "text": [
      "activity_id list_of_str True\n",
      "additional_allowed_model_components list_of_str True\n",
      "description <class 'str'> True\n",
      "experiment <class 'str'> True\n",
      "experiment_id <class 'str'> True\n",
      "parent_activity_id list_of_str False\n",
      "parent_experiment_id list_of_str False\n",
      "required_model_components list_of_str True\n",
      "sub_experiment_id list_of_str False\n"
     ]
    },
    {
     "ename": "AssertionError",
     "evalue": "",
     "output_type": "error",
     "traceback": [
      "\u001b[0;31m---------------------------------------------------------------------------\u001b[0m",
      "\u001b[0;31mAssertionError\u001b[0m                            Traceback (most recent call last)",
      "Cell \u001b[0;32mIn[11], line 25\u001b[0m\n\u001b[1;32m     22\u001b[0m         \u001b[38;5;28mprint\u001b[39m(attr, \u001b[38;5;124m\"\u001b[39m\u001b[38;5;124mmissing\u001b[39m\u001b[38;5;124m\"\u001b[39m)\n\u001b[1;32m     23\u001b[0m         passed \u001b[38;5;241m=\u001b[39m \u001b[38;5;28;01mFalse\u001b[39;00m\n\u001b[0;32m---> 25\u001b[0m \u001b[38;5;28;01massert\u001b[39;00m passed\n",
      "\u001b[0;31mAssertionError\u001b[0m: "
     ]
    }
   ],
   "source": [
    "expected_experiment_types = {\n",
    "    \"activity_id\": \"list_of_str\",\n",
    "    \"additional_allowed_model_components\": \"list_of_str\",\n",
    "    \"description\": str,\n",
    "    \"experiment\": str,\n",
    "    \"experiment_id\": str,\n",
    "    \"parent_activity_id\": \"list_of_str\",\n",
    "    \"parent_experiment_id\": \"list_of_str\",\n",
    "    \"required_model_components\": \"list_of_str\",\n",
    "    \"sub_experiment_id\": \"list_of_str\",\n",
    "}\n",
    "passed = True\n",
    "for attr, attr_type in expected_experiment_types.items():\n",
    "    try:\n",
    "        if attr_type == 'list_of_str':\n",
    "            result = is_list_of_string(test_experiment[attr])\n",
    "        else:\n",
    "            result = isinstance(test_experiment[attr], attr_type)\n",
    "        print(attr, attr_type, result)\n",
    "        passed = passed and result\n",
    "    except KeyError:\n",
    "        print(attr, \"missing\")\n",
    "        passed = False\n",
    "\n",
    "assert passed"
   ]
  },
  {
   "cell_type": "code",
   "execution_count": 12,
   "id": "c73dbbea-82fc-4cc5-a88f-a473e0af29b1",
   "metadata": {},
   "outputs": [
    {
     "ename": "AssertionError",
     "evalue": "",
     "output_type": "error",
     "traceback": [
      "\u001b[0;31m---------------------------------------------------------------------------\u001b[0m",
      "\u001b[0;31mAssertionError\u001b[0m                            Traceback (most recent call last)",
      "Cell \u001b[0;32mIn[12], line 1\u001b[0m\n\u001b[0;32m----> 1\u001b[0m \u001b[38;5;28;01massert\u001b[39;00m test_experiment[\u001b[38;5;124m'\u001b[39m\u001b[38;5;124msub_experiment_id\u001b[39m\u001b[38;5;124m'\u001b[39m] \u001b[38;5;129;01min\u001b[39;00m cv_data[\u001b[38;5;124m'\u001b[39m\u001b[38;5;124mCV\u001b[39m\u001b[38;5;124m'\u001b[39m][\u001b[38;5;124m'\u001b[39m\u001b[38;5;124msub_experiment_id\u001b[39m\u001b[38;5;124m'\u001b[39m] \u001b[38;5;66;03m# \u001b[39;00m\n",
      "\u001b[0;31mAssertionError\u001b[0m: "
     ]
    }
   ],
   "source": [
    "assert test_experiment['sub_experiment_id'] in cv_data['CV']['sub_experiment_id'] # "
   ]
  },
  {
   "cell_type": "code",
   "execution_count": 13,
   "id": "cb86ad7d-75b1-4996-9932-f18913703417",
   "metadata": {},
   "outputs": [],
   "source": [
    "assert all([isinstance(cv_data['CV'][i+'_index'], list) for i in ['realization', 'initialization', 'physics','forcing']])"
   ]
  },
  {
   "cell_type": "code",
   "execution_count": 14,
   "id": "36ca77a2-7649-4680-8d2e-9f8fb84034c2",
   "metadata": {},
   "outputs": [
    {
     "ename": "KeyError",
     "evalue": "'institution_id'",
     "output_type": "error",
     "traceback": [
      "\u001b[0;31m---------------------------------------------------------------------------\u001b[0m",
      "\u001b[0;31mKeyError\u001b[0m                                  Traceback (most recent call last)",
      "Cell \u001b[0;32mIn[14], line 1\u001b[0m\n\u001b[0;32m----> 1\u001b[0m \u001b[38;5;28;01massert\u001b[39;00m \u001b[38;5;28misinstance\u001b[39m(\u001b[43mcv_data\u001b[49m\u001b[43m[\u001b[49m\u001b[38;5;124;43m'\u001b[39;49m\u001b[38;5;124;43mCV\u001b[39;49m\u001b[38;5;124;43m'\u001b[39;49m\u001b[43m]\u001b[49m\u001b[43m[\u001b[49m\u001b[38;5;124;43m'\u001b[39;49m\u001b[38;5;124;43minstitution_id\u001b[39;49m\u001b[38;5;124;43m'\u001b[39;49m\u001b[43m]\u001b[49m, \u001b[38;5;28mdict\u001b[39m)\n",
      "\u001b[0;31mKeyError\u001b[0m: 'institution_id'"
     ]
    }
   ],
   "source": [
    "assert isinstance(cv_data['CV']['institution_id'], dict)"
   ]
  },
  {
   "cell_type": "code",
   "execution_count": 15,
   "id": "9af4dde5-f141-400a-95c3-7aaf167cf286",
   "metadata": {},
   "outputs": [],
   "source": [
    "assert isinstance(cv_data['CV']['license'], list)\n",
    "assert cv_d\"^CMIP6Plus model data produced by .* is licensed under a Creative Commons .* License (https://creativecommons\\\\.org/.*)\\\\. *Consult https://pcmdi\\\\.llnl\\\\.gov/CMIP6Plus/TermsOfUse for terms of use governing CMIP6Plus output, including citation requirements and proper acknowledgment\\\\. *The data producers and data providers make no warranty, either express or implied, including, but not limited to, warranties of merchantability and fitness for a particular purpose\\\\. *All liabilities arising from the supply of the information (including any liability arising in negligence) are excluded to the fullest extent permitted by law\\\\.$\""
   ]
  },
  {
   "cell_type": "code",
   "execution_count": 14,
   "id": "b575148c-c8c2-4807-aa13-444476f2b9d4",
   "metadata": {},
   "outputs": [],
   "source": [
    "cv_data['CV']['nominal_resolution']\n",
    "expected_resolutions = [\n",
    "    \"0.5 km\",\n",
    "    \"1 km\",\n",
    "    \"10 km\",\n",
    "    \"100 km\",\n",
    "    \"1000 km\",\n",
    "    \"10000 km\",\n",
    "    \"1x1 degree\",\n",
    "    \"2.5 km\",\n",
    "    \"25 km\",\n",
    "    \"250 km\",\n",
    "    \"2500 km\",\n",
    "    \"5 km\",\n",
    "    \"50 km\",\n",
    "    \"500 km\",\n",
    "    \"5000 km\",\n",
    "]\n",
    "assert set(cv_data['CV']['nominal_resolution']) == set(expected_resolutions)"
   ]
  },
  {
   "cell_type": "code",
   "execution_count": 15,
   "id": "8e693543-f7fb-4c98-8345-1818b2e08ad5",
   "metadata": {},
   "outputs": [],
   "source": [
    "\n",
    "\n",
    "assert set(cv_data['CV']['realm'].keys()) == {'aerosol', 'atmos', 'atmosChem', 'land', 'landIce', 'ocean', 'ocnBgchem', 'seaIce'}"
   ]
  },
  {
   "cell_type": "code",
   "execution_count": 16,
   "id": "1a848cf0-2715-4bf4-afbe-9a007c22ad7b",
   "metadata": {},
   "outputs": [],
   "source": [
    "expected_required_global_attributes= [\n",
    "    \"Conventions\",\n",
    "    \"activity_id\",\n",
    "    \"creation_date\",\n",
    "    \"data_specs_version\",\n",
    "    \"experiment\",\n",
    "    \"experiment_id\",\n",
    "    \"forcing_index\",\n",
    "    \"frequency\",\n",
    "    \"grid\",\n",
    "    \"grid_label\",\n",
    "    \"initialization_index\",\n",
    "    \"institution\",\n",
    "    \"institution_id\",\n",
    "    \"license\",\n",
    "    \"mip_era\",\n",
    "    \"nominal_resolution\",\n",
    "    \"physics_index\",\n",
    "    \"realization_index\",\n",
    "    \"realm\",\n",
    "    \"source\",\n",
    "    \"source_id\",\n",
    "    \"source_type\",\n",
    "    \"sub_experiment\",\n",
    "    \"sub_experiment_id\",\n",
    "    \"table_id\",\n",
    "    \"tracking_id\",\n",
    "    \"variable_id\",\n",
    "    \"variant_label\"\n",
    "    ]\n",
    "\n",
    "assert set(cv_data['CV']['required_global_attributes']) == set(expected_required_global_attributes)"
   ]
  },
  {
   "cell_type": "code",
   "execution_count": 17,
   "id": "95ae50c2-a847-452e-ab9f-8760a4278ae5",
   "metadata": {},
   "outputs": [
    {
     "name": "stdout",
     "output_type": "stream",
     "text": [
      "activity_participation True\n",
      "cohort True\n",
      "institution_id True\n",
      "source True\n",
      "source_id True\n"
     ]
    }
   ],
   "source": [
    "test_source_id = cv_data['CV']['source_id']['GISS-E2-1-G']\n",
    "expected = {'activity_participation':list, 'cohort': list, 'institution_id': list, 'source': str, 'source_id': str}\n",
    "\n",
    "passed = True\n",
    "for attr, attr_type in expected.items():\n",
    "    try:\n",
    "        result = isinstance(test_source_id[attr], attr_type)\n",
    "        print(attr, result)\n",
    "        passed = passed and result\n",
    "    except KeyError:\n",
    "        print(attr, \"missing\")\n",
    "        passed = False\n",
    "\n",
    "assert passed"
   ]
  },
  {
   "cell_type": "code",
   "execution_count": 41,
   "id": "d3a7e185-8ab8-4433-a1e4-751231d27df1",
   "metadata": {},
   "outputs": [
    {
     "ename": "AssertionError",
     "evalue": "",
     "output_type": "error",
     "traceback": [
      "\u001b[0;31m---------------------------------------------------------------------------\u001b[0m",
      "\u001b[0;31mAssertionError\u001b[0m                            Traceback (most recent call last)",
      "Cell \u001b[0;32mIn[41], line 1\u001b[0m\n\u001b[0;32m----> 1\u001b[0m \u001b[38;5;28;01massert\u001b[39;00m test_source_id[\u001b[38;5;124m'\u001b[39m\u001b[38;5;124mcohort\u001b[39m\u001b[38;5;124m'\u001b[39m] \u001b[38;5;241m==\u001b[39m \u001b[38;5;124m'\u001b[39m\u001b[38;5;124mPublished\u001b[39m\u001b[38;5;124m'\u001b[39m\n",
      "\u001b[0;31mAssertionError\u001b[0m: "
     ]
    }
   ],
   "source": [
    "assert test_source_id['cohort'] == 'Published'"
   ]
  },
  {
   "cell_type": "code",
   "execution_count": 18,
   "id": "fe4620f9-8469-4617-a008-a0849d7d5afe",
   "metadata": {},
   "outputs": [],
   "source": [
    "# minor: source_type could be sorted"
   ]
  },
  {
   "cell_type": "code",
   "execution_count": 21,
   "id": "db6d8188-7ff5-4452-b944-703fb8c5e3e2",
   "metadata": {},
   "outputs": [
    {
     "ename": "AssertionError",
     "evalue": "",
     "output_type": "error",
     "traceback": [
      "\u001b[0;31m---------------------------------------------------------------------------\u001b[0m",
      "\u001b[0;31mAssertionError\u001b[0m                            Traceback (most recent call last)",
      "Cell \u001b[0;32mIn[21], line 1\u001b[0m\n\u001b[0;32m----> 1\u001b[0m \u001b[38;5;28;01massert\u001b[39;00m \u001b[38;5;28mall\u001b[39m([\u001b[38;5;28misinstance\u001b[39m(cv_data[\u001b[38;5;124m'\u001b[39m\u001b[38;5;124mCV\u001b[39m\u001b[38;5;124m'\u001b[39m]\u001b[38;5;241m.\u001b[39mget(i, \u001b[38;5;28;01mNone\u001b[39;00m), \u001b[38;5;28mlist\u001b[39m) \u001b[38;5;28;01mfor\u001b[39;00m i \u001b[38;5;129;01min\u001b[39;00m [\u001b[38;5;124m'\u001b[39m\u001b[38;5;124mtable_id\u001b[39m\u001b[38;5;124m'\u001b[39m, \u001b[38;5;124m'\u001b[39m\u001b[38;5;124mtracking_id\u001b[39m\u001b[38;5;124m'\u001b[39m, \u001b[38;5;124m'\u001b[39m\u001b[38;5;124mvariant_label\u001b[39m\u001b[38;5;124m'\u001b[39m]])\n",
      "\u001b[0;31mAssertionError\u001b[0m: "
     ]
    }
   ],
   "source": [
    "assert all([isinstance(cv_data['CV'].get(i, None), list) for i in ['table_id', 'tracking_id', 'variant_label']])"
   ]
  },
  {
   "cell_type": "code",
   "execution_count": 22,
   "id": "9ed71cb4-efc4-4ff6-aeab-df8790baca2a",
   "metadata": {},
   "outputs": [],
   "source": [
    "assert isinstance(cv_data['CV']['version_metadata'], dict)"
   ]
  },
  {
   "cell_type": "code",
   "execution_count": 38,
   "id": "a89b91f3-cf50-418e-8430-d887e42dc1d4",
   "metadata": {},
   "outputs": [
    {
     "ename": "AssertionError",
     "evalue": "",
     "output_type": "error",
     "traceback": [
      "\u001b[0;31m---------------------------------------------------------------------------\u001b[0m",
      "\u001b[0;31mAssertionError\u001b[0m                            Traceback (most recent call last)",
      "Cell \u001b[0;32mIn[38], line 1\u001b[0m\n\u001b[0;32m----> 1\u001b[0m \u001b[38;5;28;01massert\u001b[39;00m cv_data[\u001b[38;5;124m'\u001b[39m\u001b[38;5;124mCV\u001b[39m\u001b[38;5;124m'\u001b[39m][\u001b[38;5;124m'\u001b[39m\u001b[38;5;124mproduct\u001b[39m\u001b[38;5;124m'\u001b[39m] \u001b[38;5;241m==\u001b[39m \u001b[38;5;124m'\u001b[39m\u001b[38;5;124mmodel-output\u001b[39m\u001b[38;5;124m'\u001b[39m\n",
      "\u001b[0;31mAssertionError\u001b[0m: "
     ]
    }
   ],
   "source": [
    "assert cv_data['CV']['product'] == 'model-output' # structure"
   ]
  },
  {
   "cell_type": "code",
   "execution_count": 40,
   "id": "17246611-2aa7-43dc-b9f8-6ad151e22d7a",
   "metadata": {},
   "outputs": [
    {
     "ename": "KeyError",
     "evalue": "'cohort'",
     "output_type": "error",
     "traceback": [
      "\u001b[0;31m---------------------------------------------------------------------------\u001b[0m",
      "\u001b[0;31mKeyError\u001b[0m                                  Traceback (most recent call last)",
      "Cell \u001b[0;32mIn[40], line 1\u001b[0m\n\u001b[0;32m----> 1\u001b[0m \u001b[38;5;28;01massert\u001b[39;00m \u001b[43mcv_data\u001b[49m\u001b[43m[\u001b[49m\u001b[38;5;124;43m'\u001b[39;49m\u001b[38;5;124;43mCV\u001b[39;49m\u001b[38;5;124;43m'\u001b[39;49m\u001b[43m]\u001b[49m\u001b[43m[\u001b[49m\u001b[38;5;124;43m'\u001b[39;49m\u001b[38;5;124;43mcohort\u001b[39;49m\u001b[38;5;124;43m'\u001b[39;49m\u001b[43m]\u001b[49m \u001b[38;5;241m==\u001b[39m[\u001b[38;5;124m'\u001b[39m\u001b[38;5;124mPublished\u001b[39m\u001b[38;5;124m'\u001b[39m]\n",
      "\u001b[0;31mKeyError\u001b[0m: 'cohort'"
     ]
    }
   ],
   "source": [
    "assert cv_data['CV']['cohort'] ==['Published'] #capitalisation"
   ]
  },
  {
   "cell_type": "code",
   "execution_count": 43,
   "id": "f50f4035-702b-48af-8f28-6360fab08ada",
   "metadata": {},
   "outputs": [
    {
     "ename": "AssertionError",
     "evalue": "",
     "output_type": "error",
     "traceback": [
      "\u001b[0;31m---------------------------------------------------------------------------\u001b[0m",
      "\u001b[0;31mAssertionError\u001b[0m                            Traceback (most recent call last)",
      "Cell \u001b[0;32mIn[43], line 1\u001b[0m\n\u001b[0;32m----> 1\u001b[0m \u001b[38;5;28;01massert\u001b[39;00m cv_data[\u001b[38;5;124m'\u001b[39m\u001b[38;5;124mCV\u001b[39m\u001b[38;5;124m'\u001b[39m][\u001b[38;5;124m'\u001b[39m\u001b[38;5;124mrealm\u001b[39m\u001b[38;5;124m'\u001b[39m][\u001b[38;5;124m\"\u001b[39m\u001b[38;5;124mocnBgchem\u001b[39m\u001b[38;5;124m\"\u001b[39m] \u001b[38;5;241m==\u001b[39m \u001b[38;5;124m\"\u001b[39m\u001b[38;5;124mOcean Biogeochemistry\u001b[39m\u001b[38;5;124m\"\u001b[39m\n",
      "\u001b[0;31mAssertionError\u001b[0m: "
     ]
    }
   ],
   "source": [
    "assert cv_data['CV']['realm'][\"ocnBgchem\"] == \"Ocean Biogeochemistry\" # capitalisation"
   ]
  },
  {
   "cell_type": "code",
   "execution_count": null,
   "id": "53862cbc-4f47-4018-b21d-bd2b010643df",
   "metadata": {},
   "outputs": [],
   "source": []
  }
 ],
 "metadata": {
  "kernelspec": {
   "display_name": "Python 3 (ipykernel)",
   "language": "python",
   "name": "python3"
  },
  "language_info": {
   "codemirror_mode": {
    "name": "ipython",
    "version": 3
   },
   "file_extension": ".py",
   "mimetype": "text/x-python",
   "name": "python",
   "nbconvert_exporter": "python",
   "pygments_lexer": "ipython3",
   "version": "3.11.7"
  }
 },
 "nbformat": 4,
 "nbformat_minor": 5
}
