{
 "cells": [
  {
   "cell_type": "code",
   "execution_count": null,
   "id": "9fda0732",
   "metadata": {},
   "outputs": [],
   "source": [
    "# !pip install cmipld"
   ]
  },
  {
   "cell_type": "code",
   "execution_count": 2,
   "id": "327899a4",
   "metadata": {},
   "outputs": [],
   "source": [
    "import cmipld"
   ]
  },
  {
   "cell_type": "code",
   "execution_count": 3,
   "id": "ebe7f6f0",
   "metadata": {},
   "outputs": [
    {
     "name": "stdout",
     "output_type": "stream",
     "text": [
      "outdated/README\n",
      "outdated/embedded_framing.ipynb\n",
      "outdated/extracting_all_experiments.ipynb\n",
      "outdated/get_activity_of_parent_experiment.ipynb\n",
      "outdated/getting_data.ipynb\n",
      "outdated/intro.ipynb\n",
      "outdated/testing_offline.ipynb\n",
      "outdated/using_pyld.ipynb\n"
     ]
    },
    {
     "data": {
      "text/plain": [
       "['outdated/README',\n",
       " 'outdated/embedded_framing.ipynb',\n",
       " 'outdated/extracting_all_experiments.ipynb',\n",
       " 'outdated/get_activity_of_parent_experiment.ipynb',\n",
       " 'outdated/getting_data.ipynb',\n",
       " 'outdated/intro.ipynb',\n",
       " 'outdated/testing_offline.ipynb',\n",
       " 'outdated/using_pyld.ipynb']"
      ]
     },
     "execution_count": 3,
     "metadata": {},
     "output_type": "execute_result"
    }
   ],
   "source": [
    "cmipld.utils.git.getfilenames()"
   ]
  },
  {
   "cell_type": "code",
   "execution_count": null,
   "id": "d21f6cdb",
   "metadata": {},
   "outputs": [
    {
     "name": "stdout",
     "output_type": "stream",
     "text": [
      "\u001b[1;38m[\u001b[m\n",
      "  \u001b[1;38m{\u001b[m\n",
      "    \u001b[1;34m\"name\"\u001b[m\u001b[1;38m:\u001b[m \u001b[32m\"_context_\"\u001b[m\u001b[1;38m,\u001b[m\n",
      "    \u001b[1;34m\"path\"\u001b[m\u001b[1;38m:\u001b[m \u001b[32m\"src-data/_context_\"\u001b[m\u001b[1;38m,\u001b[m\n",
      "    \u001b[1;34m\"sha\"\u001b[m\u001b[1;38m:\u001b[m \u001b[32m\"8f24e433694e8c5ef8b0053d26cb29da9b7a6a64\"\u001b[m\u001b[1;38m,\u001b[m\n",
      "    \u001b[1;34m\"size\"\u001b[m\u001b[1;38m:\u001b[m 627\u001b[1;38m,\u001b[m\n",
      "    \u001b[1;34m\"url\"\u001b[m\u001b[1;38m:\u001b[m \u001b[32m\"https://api.github.com/repos/WCRP-CMIP/CMIP7-CVs/contents/src-data/_context_?ref=main\"\u001b[m\u001b[1;38m,\u001b[m\n",
      "    \u001b[1;34m\"html_url\"\u001b[m\u001b[1;38m:\u001b[m \u001b[32m\"https://github.com/WCRP-CMIP/CMIP7-CVs/blob/main/src-data/_context_\"\u001b[m\u001b[1;38m,\u001b[m\n",
      "    \u001b[1;34m\"git_url\"\u001b[m\u001b[1;38m:\u001b[m \u001b[32m\"https://api.github.com/repos/WCRP-CMIP/CMIP7-CVs/git/blobs/8f24e433694e8c5ef8b0053d26cb29da9b7a6a64\"\u001b[m\u001b[1;38m,\u001b[m\n",
      "    \u001b[1;34m\"download_url\"\u001b[m\u001b[1;38m:\u001b[m \u001b[32m\"https://raw.githubusercontent.com/WCRP-CMIP/CMIP7-CVs/main/src-data/_context_\"\u001b[m\u001b[1;38m,\u001b[m\n",
      "    \u001b[1;34m\"type\"\u001b[m\u001b[1;38m:\u001b[m \u001b[32m\"file\"\u001b[m\u001b[1;38m,\u001b[m\n",
      "    \u001b[1;34m\"_links\"\u001b[m\u001b[1;38m:\u001b[m \u001b[1;38m{\u001b[m\n",
      "      \u001b[1;34m\"self\"\u001b[m\u001b[1;38m:\u001b[m \u001b[32m\"https://api.github.com/repos/WCRP-CMIP/CMIP7-CVs/contents/src-data/_context_?ref=main\"\u001b[m\u001b[1;38m,\u001b[m\n",
      "      \u001b[1;34m\"git\"\u001b[m\u001b[1;38m:\u001b[m \u001b[32m\"https://api.github.com/repos/WCRP-CMIP/CMIP7-CVs/git/blobs/8f24e433694e8c5ef8b0053d26cb29da9b7a6a64\"\u001b[m\u001b[1;38m,\u001b[m\n",
      "      \u001b[1;34m\"html\"\u001b[m\u001b[1;38m:\u001b[m \u001b[32m\"https://github.com/WCRP-CMIP/CMIP7-CVs/blob/main/src-data/_context_\"\u001b[m\n",
      "    \u001b[1;38m}\u001b[m\n",
      "  \u001b[1;38m}\u001b[m\u001b[1;38m,\u001b[m\n",
      "  \u001b[1;38m{\u001b[m\n",
      "    \u001b[1;34m\"name\"\u001b[m\u001b[1;38m:\u001b[m \u001b[32m\"activity.zip\"\u001b[m\u001b[1;38m,\u001b[m\n",
      "    \u001b[1;34m\"path\"\u001b[m\u001b[1;38m:\u001b[m \u001b[32m\"src-data/activity.zip\"\u001b[m\u001b[1;38m,\u001b[m\n",
      "    \u001b[1;34m\"sha\"\u001b[m\u001b[1;38m:\u001b[m \u001b[32m\"11e0ac88f7aa6091b47a85cadd4260d5707c85c3\"\u001b[m\u001b[1;38m,\u001b[m\n",
      "    \u001b[1;34m\"size\"\u001b[m\u001b[1;38m:\u001b[m 6873\u001b[1;38m,\u001b[m\n",
      "    \u001b[1;34m\"url\"\u001b[m\u001b[1;38m:\u001b[m \u001b[32m\"https://api.github.com/repos/WCRP-CMIP/CMIP7-CVs/contents/src-data/activity.zip?ref=main\"\u001b[m\u001b[1;38m,\u001b[m\n",
      "    \u001b[1;34m\"html_url\"\u001b[m\u001b[1;38m:\u001b[m \u001b[32m\"https://github.com/WCRP-CMIP/CMIP7-CVs/blob/main/src-data/activity.zip\"\u001b[m\u001b[1;38m,\u001b[m\n",
      "    \u001b[1;34m\"git_url\"\u001b[m\u001b[1;38m:\u001b[m \u001b[32m\"https://api.github.com/repos/WCRP-CMIP/CMIP7-CVs/git/blobs/11e0ac88f7aa6091b47a85cadd4260d5707c85c3\"\u001b[m\u001b[1;38m,\u001b[m\n",
      "    \u001b[1;34m\"download_url\"\u001b[m\u001b[1;38m:\u001b[m \u001b[32m\"https://raw.githubusercontent.com/WCRP-CMIP/CMIP7-CVs/main/src-data/activity.zip\"\u001b[m\u001b[1;38m,\u001b[m\n",
      "    \u001b[1;34m\"type\"\u001b[m\u001b[1;38m:\u001b[m \u001b[32m\"file\"\u001b[m\u001b[1;38m,\u001b[m\n",
      "    \u001b[1;34m\"_links\"\u001b[m\u001b[1;38m:\u001b[m \u001b[1;38m{\u001b[m\n",
      "      \u001b[1;34m\"self\"\u001b[m\u001b[1;38m:\u001b[m \u001b[32m\"https://api.github.com/repos/WCRP-CMIP/CMIP7-CVs/contents/src-data/activity.zip?ref=main\"\u001b[m\u001b[1;38m,\u001b[m\n",
      "      \u001b[1;34m\"git\"\u001b[m\u001b[1;38m:\u001b[m \u001b[32m\"https://api.github.com/repos/WCRP-CMIP/CMIP7-CVs/git/blobs/11e0ac88f7aa6091b47a85cadd4260d5707c85c3\"\u001b[m\u001b[1;38m,\u001b[m\n",
      "      \u001b[1;34m\"html\"\u001b[m\u001b[1;38m:\u001b[m \u001b[32m\"https://github.com/WCRP-CMIP/CMIP7-CVs/blob/main/src-data/activity.zip\"\u001b[m\n",
      "    \u001b[1;38m}\u001b[m\n",
      "  \u001b[1;38m}\u001b[m\u001b[1;38m,\u001b[m\n",
      "  \u001b[1;38m{\u001b[m\n",
      "    \u001b[1;34m\"name\"\u001b[m\u001b[1;38m:\u001b[m \u001b[32m\"experiment\"\u001b[m\u001b[1;38m,\u001b[m\n",
      "    \u001b[1;34m\"path\"\u001b[m\u001b[1;38m:\u001b[m \u001b[32m\"src-data/experiment\"\u001b[m\u001b[1;38m,\u001b[m\n",
      "    \u001b[1;34m\"sha\"\u001b[m\u001b[1;38m:\u001b[m \u001b[32m\"f6905a6273d119b154312966ab184b1a14e4d8f5\"\u001b[m\u001b[1;38m,\u001b[m\n",
      "    \u001b[1;34m\"size\"\u001b[m\u001b[1;38m:\u001b[m 0\u001b[1;38m,\u001b[m\n",
      "    \u001b[1;34m\"url\"\u001b[m\u001b[1;38m:\u001b[m \u001b[32m\"https://api.github.com/repos/WCRP-CMIP/CMIP7-CVs/contents/src-data/experiment?ref=main\"\u001b[m\u001b[1;38m,\u001b[m\n",
      "    \u001b[1;34m\"html_url\"\u001b[m\u001b[1;38m:\u001b[m \u001b[32m\"https://github.com/WCRP-CMIP/CMIP7-CVs/tree/main/src-data/experiment\"\u001b[m\u001b[1;38m,\u001b[m\n",
      "    \u001b[1;34m\"git_url\"\u001b[m\u001b[1;38m:\u001b[m \u001b[32m\"https://api.github.com/repos/WCRP-CMIP/CMIP7-CVs/git/trees/f6905a6273d119b154312966ab184b1a14e4d8f5\"\u001b[m\u001b[1;38m,\u001b[m\n",
      "    \u001b[1;34m\"download_url\"\u001b[m\u001b[1;38m:\u001b[m \u001b[36mnull\u001b[m\u001b[1;38m,\u001b[m\n",
      "    \u001b[1;34m\"type\"\u001b[m\u001b[1;38m:\u001b[m \u001b[32m\"dir\"\u001b[m\u001b[1;38m,\u001b[m\n",
      "    \u001b[1;34m\"_links\"\u001b[m\u001b[1;38m:\u001b[m \u001b[1;38m{\u001b[m\n",
      "      \u001b[1;34m\"self\"\u001b[m\u001b[1;38m:\u001b[m \u001b[32m\"https://api.github.com/repos/WCRP-CMIP/CMIP7-CVs/contents/src-data/experiment?ref=main\"\u001b[m\u001b[1;38m,\u001b[m\n",
      "      \u001b[1;34m\"git\"\u001b[m\u001b[1;38m:\u001b[m \u001b[32m\"https://api.github.com/repos/WCRP-CMIP/CMIP7-CVs/git/trees/f6905a6273d119b154312966ab184b1a14e4d8f5\"\u001b[m\u001b[1;38m,\u001b[m\n",
      "      \u001b[1;34m\"html\"\u001b[m\u001b[1;38m:\u001b[m \u001b[32m\"https://github.com/WCRP-CMIP/CMIP7-CVs/tree/main/src-data/experiment\"\u001b[m\n",
      "    \u001b[1;38m}\u001b[m\n",
      "  \u001b[1;38m}\u001b[m\u001b[1;38m,\u001b[m\n",
      "  \u001b[1;38m{\u001b[m\n",
      "    \u001b[1;34m\"name\"\u001b[m\u001b[1;38m:\u001b[m \u001b[32m\"project\"\u001b[m\u001b[1;38m,\u001b[m\n",
      "    \u001b[1;34m\"path\"\u001b[m\u001b[1;38m:\u001b[m \u001b[32m\"src-data/project\"\u001b[m\u001b[1;38m,\u001b[m\n",
      "    \u001b[1;34m\"sha\"\u001b[m\u001b[1;38m:\u001b[m \u001b[32m\"d944d056ef75cf92f81a9dc2c9969913a9d9aca8\"\u001b[m\u001b[1;38m,\u001b[m\n",
      "    \u001b[1;34m\"size\"\u001b[m\u001b[1;38m:\u001b[m 0\u001b[1;38m,\u001b[m\n",
      "    \u001b[1;34m\"url\"\u001b[m\u001b[1;38m:\u001b[m \u001b[32m\"https://api.github.com/repos/WCRP-CMIP/CMIP7-CVs/contents/src-data/project?ref=main\"\u001b[m\u001b[1;38m,\u001b[m\n",
      "    \u001b[1;34m\"html_url\"\u001b[m\u001b[1;38m:\u001b[m \u001b[32m\"https://github.com/WCRP-CMIP/CMIP7-CVs/tree/main/src-data/project\"\u001b[m\u001b[1;38m,\u001b[m\n",
      "    \u001b[1;34m\"git_url\"\u001b[m\u001b[1;38m:\u001b[m \u001b[32m\"https://api.github.com/repos/WCRP-CMIP/CMIP7-CVs/git/trees/d944d056ef75cf92f81a9dc2c9969913a9d9aca8\"\u001b[m\u001b[1;38m,\u001b[m\n",
      "    \u001b[1;34m\"download_url\"\u001b[m\u001b[1;38m:\u001b[m \u001b[36mnull\u001b[m\u001b[1;38m,\u001b[m\n",
      "    \u001b[1;34m\"type\"\u001b[m\u001b[1;38m:\u001b[m \u001b[32m\"dir\"\u001b[m\u001b[1;38m,\u001b[m\n",
      "    \u001b[1;34m\"_links\"\u001b[m\u001b[1;38m:\u001b[m \u001b[1;38m{\u001b[m\n",
      "      \u001b[1;34m\"self\"\u001b[m\u001b[1;38m:\u001b[m \u001b[32m\"https://api.github.com/repos/WCRP-CMIP/CMIP7-CVs/contents/src-data/project?ref=main\"\u001b[m\u001b[1;38m,\u001b[m\n",
      "      \u001b[1;34m\"git\"\u001b[m\u001b[1;38m:\u001b[m \u001b[32m\"https://api.github.com/repos/WCRP-CMIP/CMIP7-CVs/git/trees/d944d056ef75cf92f81a9dc2c9969913a9d9aca8\"\u001b[m\u001b[1;38m,\u001b[m\n",
      "      \u001b[1;34m\"html\"\u001b[m\u001b[1;38m:\u001b[m \u001b[32m\"https://github.com/WCRP-CMIP/CMIP7-CVs/tree/main/src-data/project\"\u001b[m\n",
      "    \u001b[1;38m}\u001b[m\n",
      "  \u001b[1;38m}\u001b[m\n",
      "\u001b[1;38m]\u001b[m\n",
      "\n"
     ]
    }
   ],
   "source": [
    "import subprocess, json\n",
    "\n",
    "def list_repo_files(owner, repo, branch='main', path=''):\n",
    "    cmd = ['gh', 'api', f'/repos/{owner}/{repo}/contents/{path}?ref={branch}']\n",
    "    \n",
    "    \n",
    "    \n",
    "    \n",
    "    result = subprocess.run(cmd, capture_output=True, text=True, check=True)\n",
    "    # items = json.loads(result.stdout)\n",
    "    print(result.stdout)\n",
    "    # return [{'name': i['name'], 'type': i['type'], 'path': i['path']} for i in (items if isinstance(items, list) else [items])]\n",
    "\n",
    "\n",
    "list_repo_files('WCRP-CMIP','CMIP7-CVs',path='src-data')"
   ]
  },
  {
   "cell_type": "code",
   "execution_count": null,
   "id": "ed473a83",
   "metadata": {},
   "outputs": [],
   "source": []
  }
 ],
 "metadata": {
  "kernelspec": {
   "display_name": "base",
   "language": "python",
   "name": "python3"
  },
  "language_info": {
   "codemirror_mode": {
    "name": "ipython",
    "version": 3
   },
   "file_extension": ".py",
   "mimetype": "text/x-python",
   "name": "python",
   "nbconvert_exporter": "python",
   "pygments_lexer": "ipython3",
   "version": "3.10.10"
  }
 },
 "nbformat": 4,
 "nbformat_minor": 5
}
